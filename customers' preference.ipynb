{
 "cells": [
  {
   "cell_type": "markdown",
   "metadata": {},
   "source": [
    "# Data Collection"
   ]
  },
  {
   "cell_type": "code",
   "execution_count": 1,
   "metadata": {},
   "outputs": [],
   "source": [
    "import pandas as pd"
   ]
  },
  {
   "cell_type": "code",
   "execution_count": 2,
   "metadata": {},
   "outputs": [
    {
     "name": "stdout",
     "output_type": "stream",
     "text": [
      "   Store No.  Sales $m  Wages $m  No. Staff Location  Loc'n (Num) State  \\\n",
      "0          1      12.5       2.3         60     Mall            2   NSW   \n",
      "1          2      14.5       2.7         69     Mall            2   Vic   \n",
      "2          3      19.0       3.1         79  Country            3   Vic   \n",
      "3          4      18.2       2.6         66     Mall            2   Qld   \n",
      "4          5       7.6       2.0         51    Strip            1   Qld   \n",
      "\n",
      "   State (Num)  Age (Yrs)  GrossProfit  ...  Mng-Sex (Num)  Mng-Age  Mng-Exp  \\\n",
      "0            1         10        0.712  ...              0       33       12   \n",
      "1            2          8        0.091  ...              0       33       16   \n",
      "2            2          7        1.075  ...              0       30        9   \n",
      "3            3          7        1.372  ...              0       29        9   \n",
      "4            3         15        2.148  ...              0       36        4   \n",
      "\n",
      "  Mng-Train  Union% Car Spaces  HomeDel  HomeDel (Num)  Basket:2013  \\\n",
      "0         2      38         46   Del:No              0          171   \n",
      "1         1      38         73   Del:No              0          168   \n",
      "2         2      39         64   Del:No              0          180   \n",
      "3         2      38         66  Del:Yes              1          173   \n",
      "4         3      40         29   Del:No              0          166   \n",
      "\n",
      "   Basket:2014  \n",
      "0          178  \n",
      "1          178  \n",
      "2          188  \n",
      "3          180  \n",
      "4          171  \n",
      "\n",
      "[5 rows x 26 columns]\n"
     ]
    }
   ],
   "source": [
    "# Reading the file using pandas\n",
    "data=pd.read_excel(\"StoresData.xlsx\")\n",
    "# Display the first 5 rows of data\n",
    "print (data.head())"
   ]
  },
  {
   "cell_type": "code",
   "execution_count": 3,
   "metadata": {},
   "outputs": [
    {
     "name": "stdout",
     "output_type": "stream",
     "text": [
      "Index(['Store No.', 'Sales $m', 'Wages $m', 'No. Staff', 'Location',\n",
      "       'Loc'n (Num)', 'State', 'State (Num)', 'Age (Yrs)', 'GrossProfit',\n",
      "       'Adv.$'000', 'Competitors', 'HrsTrading', 'Sundays', 'Sundays (Num)',\n",
      "       'Mng-Sex', 'Mng-Sex (Num)', 'Mng-Age', 'Mng-Exp', 'Mng-Train', 'Union%',\n",
      "       'Car Spaces', 'HomeDel', 'HomeDel (Num)', 'Basket:2013', 'Basket:2014'],\n",
      "      dtype='object')\n"
     ]
    }
   ],
   "source": [
    "# Check columns\n",
    "print(data.columns)"
   ]
  }
 ],
 "metadata": {
  "kernelspec": {
   "display_name": "base",
   "language": "python",
   "name": "python3"
  },
  "language_info": {
   "codemirror_mode": {
    "name": "ipython",
    "version": 3
   },
   "file_extension": ".py",
   "mimetype": "text/x-python",
   "name": "python",
   "nbconvert_exporter": "python",
   "pygments_lexer": "ipython3",
   "version": "3.12.7"
  }
 },
 "nbformat": 4,
 "nbformat_minor": 2
}
